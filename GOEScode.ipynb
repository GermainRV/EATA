{
 "cells": [
  {
   "cell_type": "code",
   "execution_count": null,
   "metadata": {
    "notebookRunGroups": {
     "groupValue": "12"
    }
   },
   "outputs": [],
   "source": [
    "#==================== We set product parameters to download ====================\n",
    "destination_path = '../GOESimages/'\n",
    "product_list = { # ABI Products\n",
    "\"ABI-L2-ACHAF\": \"Cloud Top Height\",\n",
    "\"ABI-L2-ACHTF\": \"Cloud Top Temperature\",\n",
    "\"ABI-L2-ACMF\": \"Clear Sky  Mask\",\n",
    "\"ABI-L2-ACTPF\": \"Cloud Top Phase\",\n",
    "## \"ABI-L2-DMWVF\": \"Derived Motion Winds - Vapor\",\n",
    "## \"ABI-L2-DSRF\": \"Downward Shortwave Radiation\",\n",
    "\"ABI-L2-LSTF\": \"Land Surface Temperature\",\n",
    "\"ABI-L2-RRQPEF\": \"Rainfall rate\",\n",
    "\"ABI-L2-TPWF\": \"Total Precipitable Water\",\n",
    "}\n",
    "products = list(product_list)\n",
    "#==================== Setting up time reference variables ====================\n",
    "from datetime import datetime, timedelta, timezone\n",
    "import os, pytz, time\n",
    "utc = pytz.timezone('UTC') # UTC timezone\n",
    "utcm5 = pytz.timezone('America/Lima') # UTC-5 timezone\n",
    "from IPython.display import display, Image, clear_output\n",
    "import numpy as np\n",
    "import GOESutils.GOESplots as gplt\n",
    "import GOESutils.GOESimport as gimp\n",
    "import GOESutils.DataBaseUtils as dbu\n",
    "import goes2go as g2g\n",
    "import importlib, sys\n",
    "# importlib.reload(sys.modules['GOESutils.GOESplots'])\n",
    "# import GOESutils.GOESplots as gplt\n",
    "# importlib.reload(sys.modules['GOESutils.GOESimport'])\n",
    "# import GOESutils.GOESimport as gimp"
   ]
  },
  {
   "cell_type": "markdown",
   "metadata": {},
   "source": [
    "# Products in a time range"
   ]
  },
  {
   "cell_type": "code",
   "execution_count": null,
   "metadata": {},
   "outputs": [],
   "source": [
    "importlib.reload(sys.modules['GOESutils.GOESimport'])\n",
    "import GOESutils.GOESimport as gimp"
   ]
  },
  {
   "cell_type": "code",
   "execution_count": null,
   "metadata": {
    "notebookRunGroups": {
     "groupValue": "2"
    }
   },
   "outputs": [],
   "source": [
    "# importlib.reload(sys.modules['GOESutils.GOESimport'])\n",
    "# import GOESutils.GOESimport as gimp\n",
    "startdate = datetime(2020,1,1,tzinfo=utcm5)\n",
    "enddate = datetime(2020,2,1,tzinfo=utcm5)\n",
    "prodFileList = gimp.GOESfiles(\"timerange\", startdate, enddate, freq=timedelta(minutes=30),\n",
    "                              target_product=\"RadF\", bands=14,\n",
    "                              to_display=True, download=False)"
   ]
  },
  {
   "cell_type": "code",
   "execution_count": null,
   "metadata": {},
   "outputs": [],
   "source": [
    "initial_time = datetime.now(utcm5)\n",
    "product = prodFileList['product'][0]\n",
    "for f in list(prodFileList['file']): # Reading each file downloaded\n",
    "    print(\"Working with file: {}\".format(os.path.basename(f)))                \n",
    "    FullFileName = os.path.join(destination_path,f)\n",
    "    data, ProductParams = gimp.ImportingData(FullFileName, product)\n",
    "    data = gimp.CleaningData(data, product)\n",
    "    dataset = gplt.export_as(data, ProductParams[\"DataAttrs\"], \n",
    "                        filename=ProductParams[\"DataAttrs\"]['dataset_name'],\n",
    "                        path=\"./GOESimages/Data\")\n",
    "    \n",
    "\n",
    "    # Check if it's time to clear the output\n",
    "    CurrentTime = datetime.now(utcm5)\n",
    "    minute, seconds = CurrentTime.minute, CurrentTime.second\n",
    "    elapsed_time = CurrentTime - initial_time\n",
    "    if elapsed_time >= timedelta(minutes=1):\n",
    "        # Clear the output\n",
    "        clear_output(wait=True)\n",
    "        # Reset the start time\n",
    "        initial_time = datetime.now(utcm5)\n",
    "        \n",
    "print(\"All the files have been processed.\")"
   ]
  },
  {
   "cell_type": "code",
   "execution_count": null,
   "metadata": {
    "notebookRunGroups": {
     "groupValue": "2"
    }
   },
   "outputs": [],
   "source": [
    "initial_time = datetime.now(utcm5)\n",
    "for product in products:\n",
    "    for f in list(prodFileList['file']): # Reading each file downloaded\n",
    "        print(\"Working with file: {}\".format(os.path.basename(f)))                \n",
    "        FullFileName = os.path.join(destination_path,f)\n",
    "        data, ProductParams = gimp.ImportingData(FullFileName, product)\n",
    "        data = gimp.CleaningData(data, product)\n",
    "        FullImageName = os.path.join(ProductParams[\"ImagePath\"],\"Peru\",ProductParams[\"ImageName\"])\n",
    "        if os.path.exists(FullImageName): # If png image exists, it is shown\n",
    "            print(\"Image '{}' already exists in '{}'\".format(ProductParams[\"ImageName\"],ProductParams[\"ImagePath\"]))\n",
    "            display(Image(filename=FullImageName, width=640))\n",
    "        else: # Creating png image\n",
    "            file_datetime = ProductParams[\"ImageTime\"].astimezone(utc)\n",
    "            gFileList = goes_nearesttime(file_datetime.replace(tzinfo=None), product=\"ABI-L2-MCMIPF\", return_as=\"filelist\", download=True, save_dir=destination_path)\n",
    "            try:\n",
    "                RGBdata, GeoColorParams = gimp.GeoColorData(os.path.join(destination_path,gFileList.iloc[0][\"file\"]))\n",
    "            except:\n",
    "                gFileList = goes_nearesttime(file_datetime.replace(tzinfo=None), product=\"ABI-L2-MCMIPF\", return_as=\"filelist\", download=True, save_dir=destination_path, overwrite=True)\n",
    "                RGBdata, GeoColorParams = gimp.GeoColorData(os.path.join(destination_path,gFileList.iloc[0][\"file\"]))\n",
    "            figGeo, axGeo = gplt.GeoColorPlot(RGBdata, GeoColorParams, toSave=False, toDisplay=False, toUpload=False, dpi=300)\n",
    "            if (not os.path.exists(ProductParams[\"ImagePath\"])):\n",
    "                print(f\"Directory for product {product} does not exist. Creating new one...\") \n",
    "                os.makedirs(ProductParams[\"ImagePath\"])\n",
    "            print(f\"Image for file {os.path.basename(f)} not found, creating one...\")\n",
    "            figProd = gplt.ProductPlot(data, product, axGeo, ProductParams, toSave=True, toDisplay=True, toUpload=False, dpi=600)\n",
    "\n",
    "        # Check if it's time to clear the output\n",
    "        CurrentTime = datetime.now(utcm5)\n",
    "        minute, seconds = CurrentTime.minute, CurrentTime.second\n",
    "        elapsed_time = CurrentTime - initial_time\n",
    "        if elapsed_time >= timedelta(minutes=1):\n",
    "            # Clear the output\n",
    "            clear_output(wait=True)\n",
    "            # Reset the start time\n",
    "            initial_time = datetime.now(utcm5)\n",
    "            \n",
    "    print(\"All the files have been processed.\")"
   ]
  },
  {
   "cell_type": "code",
   "execution_count": null,
   "metadata": {},
   "outputs": [],
   "source": [
    "importlib.reload(sys.modules['GOESutils.GOESplots'])\n",
    "import GOESutils.GOESplots as gplt\n",
    "ImagesPath = \".\\GOESimages\\Products\\ACHA\\Peru\"\n",
    "ImagesInfo = gplt.GettingImagesInfo(ImagesPath, start_date=startdate, end_date=enddate)\n",
    "gplt.GOESvideos(ImagesInfo, VideoPath=\".\\GOESimages\\Products\\ACHA\", extension=\".avi\")"
   ]
  },
  {
   "cell_type": "markdown",
   "metadata": {},
   "source": [
    "# Products in real time"
   ]
  },
  {
   "cell_type": "code",
   "execution_count": null,
   "metadata": {
    "notebookRunGroups": {
     "groupValue": "1"
    }
   },
   "outputs": [],
   "source": [
    "# importlib.reload(sys.modules['GOESutils.GOESimport'])\n",
    "# import GOESutils.GOESimport as gimp\n",
    "# importlib.reload(sys.modules['GOESutils.GOESplots'])\n",
    "# import GOESutils.GOESplots as gplt\n",
    "\n",
    "toUpload = False\n",
    "while True:\n",
    "    clear_output(wait=True)\n",
    "    CurrentTime = datetime.now(utcm5)\n",
    "    CurrentTime_str = CurrentTime.strftime('%Y-%m-%d %H:%M:%S %Z')\n",
    "    print(\"============================================================\")\n",
    "    print(\"Current time is: {}\".format(CurrentTime_str))\n",
    "    # gFileList = gimp.GOESfiles(\"latest\", target_product=\"ABI-L2-MCMIP\", download=True)\n",
    "    # f = gFileList.iloc[0]\n",
    "    # RGBdata, GeoColorParams = gimp.GeoColorData(os.path.join(destination_path,f[\"file\"]))\n",
    "    RGBdata, GeoColorParams = gplt.GeoColorTif(destination_path)\n",
    "    figGeo, axGeo = gplt.GeoColorPlot(RGBdata, GeoColorParams, toSave=True, toDisplay=True, toUpload=False, dpi=150)\n",
    "    prodFileList = gimp.GOESfiles(\"latest\", target_product=products, to_display=True, download=True)\n",
    "    for product in products:\n",
    "        \n",
    "        f = prodFileList[prodFileList[\"product\"]==product].iloc[0]\n",
    "        FullFileName = os.path.join(destination_path,f[\"file\"])\n",
    "        data, ProductParams = gimp.ImportingData(FullFileName, product)\n",
    "        data = gimp.CleaningData(data, product)\n",
    "        data_re = gimp.interpolate_products(data, product, n=5)\n",
    "                                                    \n",
    "        print(\"Working with file: {}\".format(os.path.basename(f['file'])))                \n",
    "        FullImageName = os.path.join(ProductParams[\"ImagePath\"],\"Peru\",ProductParams[\"ImageName\"])\n",
    "        if os.path.exists(FullImageName): # If png image exists, it is shown\n",
    "            print(\"Image [{}] already exists in [{}]\".format(ProductParams[\"ImageName\"],ProductParams[\"ImagePath\"]))\n",
    "            display(Image(filename=FullImageName)) # , width=540   \n",
    "        else: # Creating png image\n",
    "            if not os.path.exists(ProductParams[\"ImagePath\"]):\n",
    "                print(f\"Directory for product {product} does not exist. Creating new one...\") \n",
    "                os.makedirs(ProductParams[\"ImagePath\"])\n",
    "            print(f\"Image for file {os.path.basename(f['file'])} not found, creating one...\")\n",
    "            figProd = gplt.ProductPlot(data_re, product, axGeo, ProductParams, toSave=True, toDisplay=True, toUpload=toUpload, dpi=150)\n",
    "\n",
    "        # # try: # Deleting downloaded product\n",
    "        # #     os.remove(FullFileName)\n",
    "        # #     print(f\"File '{FullFileName}' has been removed.\")\n",
    "        # # except FileNotFoundError:\n",
    "        # #     print(f\"File '{FullFileName}' not found.\")\n",
    "        # # except Exception as e:\n",
    "        # #     print(f\"An error occurred while deleting the file: {e}\")\n",
    "            \n",
    "        for dep in gplt.departments[:3]:\n",
    "            gplt.DepartmentPlot(product, dep, RGBdata, GeoColorParams, data_re, ProductParams, toSave=True, toDisplay=True, toUpload=toUpload)\n",
    "        reports = gplt.ReportingEvents(data, product, level=\"L3\", send_comments=True)\n",
    "            \n",
    "        print(\"All the files have been processed.\")\n",
    "        \n",
    "\n",
    "    try: # Check if it's time to clear the output\n",
    "        CurrentTime = datetime.now(utcm5)\n",
    "        hour, minute, seconds = CurrentTime.hour, CurrentTime.minute, CurrentTime.second\n",
    "        if (hour==23 and minute>55): # (elapsed_time >= timedelta(hours=3)) or \n",
    "            print(\"Cleaning database\")\n",
    "            for i in range(2,9):\n",
    "                folder = f\"Images/Type{i}\"\n",
    "                dbu.DeleteFile(folder)\n",
    "                for d in gplt.departments_folder:\n",
    "                    folder = f\"Images/T{i}{d}\"\n",
    "                    dbu.DeleteFile(folder)\n",
    "            \n",
    "        total_remaining_seconds = (5 - (int(minute) % 5)) * 60 - int(seconds)\n",
    "        remaining_minutes = total_remaining_seconds // 60\n",
    "        print(\"Waiting {} minutes for the next file upload\".format(remaining_minutes + 2))\n",
    "        time.sleep((remaining_minutes+2)*60)\n",
    "    except Exception as e:\n",
    "        print(\"Elapsed time attempting failed.\")"
   ]
  }
 ],
 "metadata": {
  "kernelspec": {
   "display_name": "satimg",
   "language": "python",
   "name": "python3"
  },
  "language_info": {
   "codemirror_mode": {
    "name": "ipython",
    "version": 3
   },
   "file_extension": ".py",
   "mimetype": "text/x-python",
   "name": "python",
   "nbconvert_exporter": "python",
   "pygments_lexer": "ipython3",
   "version": "3.11.5"
  },
  "orig_nbformat": 4
 },
 "nbformat": 4,
 "nbformat_minor": 2
}
